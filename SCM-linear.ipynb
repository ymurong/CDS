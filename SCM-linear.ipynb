{
 "cells": [
  {
   "cell_type": "code",
   "execution_count": 6,
   "id": "7ddafba3-6ea6-4c8f-96d7-b8d041f609f2",
   "metadata": {
    "pycharm": {
     "name": "#%%\n"
    }
   },
   "outputs": [],
   "source": [
    "import numpy as np\n",
    "from numpy.random import randn\n",
    "import pandas as pd\n",
    "import seaborn as sns\n",
    "from sklearn.linear_model import LinearRegression\n",
    "\n",
    "n_samples=10000"
   ]
  },
  {
   "cell_type": "markdown",
   "id": "5a47f648-143e-4c9f-839f-43d55f940b7d",
   "metadata": {
    "tags": [],
    "pycharm": {
     "name": "#%% md\n"
    }
   },
   "source": [
    "We will focus on the Structural Causal Model: \n",
    "\n",
    "$\\begin{cases}\n",
    "X_1 \\leftarrow 3 \\cdot X_2 + \\epsilon_{X_1}\\\\\n",
    "X_2 \\leftarrow \\epsilon_{X_2}\\\\\n",
    "X_3 \\leftarrow 5 \\cdot X_1 + 4 \\cdot X_2 +\\epsilon_{X_3}\\\\\n",
    "X_4 \\leftarrow 6 \\cdot X_3 + \\epsilon_{X_4}\\\\\n",
    "\\end{cases}$\n",
    "\n",
    "$\\epsilon_{X_1},\\epsilon_{X_2},\\epsilon_{X_3}, \\epsilon_{X_4} \\sim \\mathcal{N}(0,1) \\ \\mathrm{ and } \\  \\forall i\\neq j: \\epsilon_{X_i} \\perp\\!\\!\\perp \\epsilon_{X_j}$\n",
    "\n",
    "We will start by estimating the total average causal effect of X1 on X3, $E[X_3|do(X_1=1)] - E[X_3|do(X_1=0)] $, which in this case we compute analytically with the path coefficient method as $5 \\times 6=30$. Instead we will estimate it numerically by simulating two related SCMs in which we set $X_1$ to 1 and 0, respectively:"
   ]
  },
  {
   "cell_type": "code",
   "execution_count": 7,
   "id": "d9b6330a-6c5b-48a8-a693-53ab3be6bd14",
   "metadata": {
    "pycharm": {
     "name": "#%%\n"
    }
   },
   "outputs": [
    {
     "name": "stdout",
     "output_type": "stream",
     "text": [
      "29.805828417171806\n"
     ]
    }
   ],
   "source": [
    "mu, sigma = 0, 1 # mean and standard deviation\n",
    "\n",
    "x2_1 = np.random.normal(mu, sigma, n_samples)\n",
    "x1_1 =  1\n",
    "x3_1 = 5 * x1_1 + 4 * x2_1 + np.random.normal(mu, sigma, n_samples)\n",
    "x4_1 = 6 * x3_1 + np.random.normal(mu, sigma, n_samples)\n",
    "\n",
    "x2_0 = np.random.normal(mu, sigma, n_samples)\n",
    "x1_0 =  0\n",
    "x3_0 = 5 * x1_0 + 4 * x2_0 + np.random.normal(mu, sigma, n_samples)\n",
    "x4_0 = 6 * x3_0 + np.random.normal(mu, sigma, n_samples)\n",
    "diff = np.mean(x4_1) - np.mean(x4_0)\n",
    "print(diff)"
   ]
  },
  {
   "cell_type": "markdown",
   "id": "57eb8c78-42a3-48ad-8600-7841b51a5927",
   "metadata": {
    "pycharm": {
     "name": "#%% md\n"
    }
   },
   "source": [
    "We can also try to check if the effect predicted by the path method for the total average causal effect of X2 on X4 $E[X_4|do(X_2 = 1)] - E[X_4|do(X_2 = 0)]= 114$ is correct also in the numerical simulation:"
   ]
  },
  {
   "cell_type": "code",
   "execution_count": 8,
   "id": "277bde97-9f6e-46aa-9f8c-463865f3ee71",
   "metadata": {
    "pycharm": {
     "name": "#%%\n"
    }
   },
   "outputs": [
    {
     "name": "stdout",
     "output_type": "stream",
     "text": [
      "113.45410315092538\n"
     ]
    }
   ],
   "source": [
    "x2_1 = 1\n",
    "x1_1 =  3 * x2_1 + randn(n_samples) \n",
    "x3_1 = 5 * x1_1 + 4 * x2_1 + randn(n_samples)\n",
    "x4_1 = 6 * x3_1 + randn(n_samples) \n",
    "\n",
    "x2_0 = 0\n",
    "x1_0 = 3 * x2_0 + randn(n_samples) \n",
    "x3_0 = 5 * x1_0 + 4 * x2_0 + randn(n_samples)\n",
    "x4_0 = 6 * x3_0 + randn(n_samples)\n",
    "diff = np.mean(x4_1) - np.mean(x4_0)\n",
    "print(diff)"
   ]
  },
  {
   "cell_type": "markdown",
   "id": "e0fdf1ff-457a-4a41-9fb9-1559273b64c4",
   "metadata": {
    "pycharm": {
     "name": "#%% md\n"
    }
   },
   "source": [
    "We now show that we can also learn empirically the effect of X1 on X4 without simulating interventions. We simulate observational samples from the SCM from the example:"
   ]
  },
  {
   "cell_type": "code",
   "execution_count": 12,
   "id": "164881e5-45dd-4057-a6b8-ecdce96fea01",
   "metadata": {
    "pycharm": {
     "name": "#%%\n"
    }
   },
   "outputs": [
    {
     "name": "stdout",
     "output_type": "stream",
     "text": [
      "            x2        x1         x3          x4\n",
      "0     0.233087  0.556705   3.620552   21.469438\n",
      "1     0.975011  4.067085  25.222893  151.832783\n",
      "2     0.211004  0.684294   4.113545   26.270381\n",
      "3     0.822919  1.822309  13.525527   79.689974\n",
      "4     0.893344  2.356225  15.725063   92.442871\n",
      "...        ...       ...        ...         ...\n",
      "9995  2.203807  6.995353  45.071340  269.622416\n",
      "9996 -0.357482 -0.054502  -1.949514  -12.014570\n",
      "9997  0.748787  2.319182  13.416964   79.812848\n",
      "9998  1.210459  5.581404  32.458151  194.945715\n",
      "9999  0.703387  1.980747  12.584568   73.859804\n",
      "\n",
      "[10000 rows x 4 columns]\n"
     ]
    }
   ],
   "source": [
    "x2 = randn(n_samples) \n",
    "x1 = 3 * x2 + randn(n_samples) \n",
    "x3 = 5 * x1 + 4 * x2 + randn(n_samples)\n",
    "x4 = 6 * x3 + randn(n_samples) \n",
    "\n",
    "df = pd.DataFrame({ \"x2\": x2, \"x1\": x1, \"x3\": x3,\"x4\": x4})\n",
    "Y = df.iloc[:, 3].values.reshape(-1, 1)\n",
    "X1 = df.iloc[:, 1].values.reshape(n_samples, 1)\n",
    "X21 = df.iloc[:, 0:2].values.reshape(n_samples, 2)\n",
    "X13 = df.iloc[:, 1:3].values.reshape(n_samples, 2)\n",
    "X = df.iloc[:, 0:3].values.reshape(n_samples, 3)"
   ]
  },
  {
   "cell_type": "markdown",
   "id": "b79803cf-94b2-4cd6-9b18-5f5368f5902f",
   "metadata": {
    "tags": [],
    "pycharm": {
     "name": "#%% md\n"
    }
   },
   "source": [
    "We start by regressing X4 on X1 and check the linear coefficient:"
   ]
  },
  {
   "cell_type": "code",
   "execution_count": 19,
   "id": "9ad0a0b4-9ef3-44ef-a6b3-ae6bf1059677",
   "metadata": {
    "pycharm": {
     "name": "#%%\n"
    }
   },
   "outputs": [
    {
     "data": {
      "text/plain": "array([[37.17373998]])"
     },
     "execution_count": 19,
     "metadata": {},
     "output_type": "execute_result"
    }
   ],
   "source": [
    "linear_regressor = LinearRegression() \n",
    "linear_regressor.fit(X1, Y)\n",
    "linear_regressor.coef_"
   ]
  },
  {
   "cell_type": "markdown",
   "id": "4fccbb04-1036-42e8-bbb8-1766def2b064",
   "metadata": {
    "pycharm": {
     "name": "#%% md\n"
    }
   },
   "source": [
    "The linear coefficient is far from the prediction for X1 (which is 30 = 5*6)"
   ]
  },
  {
   "cell_type": "markdown",
   "id": "37e66e7d-9801-4e3c-9319-05a2450d339a",
   "metadata": {
    "pycharm": {
     "name": "#%% md\n"
    }
   },
   "source": [
    "We try something different and consider using both X1 and X3 as covariates in the regression for predicting X4:"
   ]
  },
  {
   "cell_type": "code",
   "execution_count": 18,
   "id": "ddcba9f8-d316-429f-9d5b-05c4cba4f0b0",
   "metadata": {
    "pycharm": {
     "name": "#%%\n"
    }
   },
   "outputs": [
    {
     "data": {
      "text/plain": "array([-0.00680472])"
     },
     "execution_count": 18,
     "metadata": {},
     "output_type": "execute_result"
    }
   ],
   "source": [
    "linear_regressorX13 = LinearRegression()\n",
    "linear_regressorX13.fit(X13, Y)\n",
    "linear_regressorX13.coef_[:,0]"
   ]
  },
  {
   "cell_type": "markdown",
   "id": "37a7b60c-7757-4312-9537-4a8babc8f5a6",
   "metadata": {
    "pycharm": {
     "name": "#%% md\n"
    }
   },
   "source": [
    "The result for X1 are even worse. \n",
    "\n",
    "We now consider X1 and X2 as covariates in the regression for predicting X4::"
   ]
  },
  {
   "cell_type": "code",
   "execution_count": 20,
   "id": "1cdced87-713c-4bd6-b2ab-a9c121b10dca",
   "metadata": {
    "pycharm": {
     "name": "#%%\n"
    }
   },
   "outputs": [
    {
     "data": {
      "text/plain": "array([29.95265029])"
     },
     "execution_count": 20,
     "metadata": {},
     "output_type": "execute_result"
    }
   ],
   "source": [
    "linear_regressorX12 = LinearRegression() \n",
    "linear_regressorX12.fit(X21, Y)\n",
    "linear_regressorX12.coef_[:,1]"
   ]
  },
  {
   "cell_type": "markdown",
   "id": "2239f02f-ab2f-4157-88c2-14ae997ec955",
   "metadata": {
    "pycharm": {
     "name": "#%% md\n"
    }
   },
   "source": [
    "The result is now similar to the coefficient we have computed analytically. \n",
    "\n",
    "Finally, we consider all the other variables X1, X2 and X3 in the regression for predicting X4:"
   ]
  },
  {
   "cell_type": "code",
   "execution_count": 21,
   "id": "4a977b70-2991-4182-af18-986a44f88932",
   "metadata": {
    "pycharm": {
     "name": "#%%\n"
    }
   },
   "outputs": [
    {
     "data": {
      "text/plain": "array([-0.00916755])"
     },
     "execution_count": 21,
     "metadata": {},
     "output_type": "execute_result"
    }
   ],
   "source": [
    "linear_regressorX123 = LinearRegression() \n",
    "linear_regressorX123.fit(X, Y)\n",
    "linear_regressorX123.coef_[:,1]"
   ]
  },
  {
   "cell_type": "markdown",
   "id": "ed3390e2-e582-4309-8002-aadf18024775",
   "metadata": {
    "tags": [],
    "pycharm": {
     "name": "#%% md\n"
    }
   },
   "source": [
    "The only correct estimate of the causal effect of X1 on X4 is when we use X1 and X2 in the regression, which fits the adjustment formula we will see in the next slides."
   ]
  }
 ],
 "metadata": {
  "kernelspec": {
   "display_name": "Python 3 (ipykernel)",
   "language": "python",
   "name": "python3"
  },
  "language_info": {
   "codemirror_mode": {
    "name": "ipython",
    "version": 3
   },
   "file_extension": ".py",
   "mimetype": "text/x-python",
   "name": "python",
   "nbconvert_exporter": "python",
   "pygments_lexer": "ipython3",
   "version": "3.9.10"
  }
 },
 "nbformat": 4,
 "nbformat_minor": 5
}