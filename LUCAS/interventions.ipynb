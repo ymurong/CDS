{
 "cells": [
  {
   "attachments": {},
   "cell_type": "markdown",
   "metadata": {
    "pycharm": {
     "name": "#%% md\n"
    }
   },
   "source": [
    "## Interventions in the LUCAS Graph"
   ]
  },
  {
   "cell_type": "code",
   "execution_count": 1,
   "metadata": {
    "pycharm": {
     "name": "#%%\n"
    }
   },
   "outputs": [],
   "source": [
    "import pandas as pd\n",
    "import dowhy\n",
    "import numpy as np\n",
    "from random import random\n",
    "import networkx as nx "
   ]
  },
  {
   "attachments": {},
   "cell_type": "markdown",
   "metadata": {
    "pycharm": {
     "name": "#%% md\n"
    }
   },
   "source": [
    "### Simulating dataset based on probabilities:"
   ]
  },
  {
   "cell_type": "code",
   "execution_count": 70,
   "metadata": {
    "pycharm": {
     "name": "#%%\n"
    }
   },
   "outputs": [],
   "source": [
    "\"\"\" Stated probabilities \"\"\"\n",
    "# If you want to do an intervention in one node add \"return new_probability\" at the very beginning\n",
    "# don't delete the original probabilities\n",
    "\n",
    "def anxiety_p():\n",
    "    return 0.64277\n",
    "\n",
    "def pressure_p():\n",
    "    return 0.32997\n",
    "\n",
    "def smoking_p(anxiety, pressure):\n",
    "    return 0\n",
    "    if anxiety == 0 and pressure == 0:\n",
    "        return .43118\n",
    "    if anxiety == 0 and pressure == 1:\n",
    "        return .74591\n",
    "    if anxiety == 1 and pressure == 0:\n",
    "        return .8686\n",
    "    if anxiety == 1 and pressure == 1:\n",
    "        return .91576\n",
    "    \n",
    "def yellow_p(smoking):\n",
    "    if smoking == 0:\n",
    "        return .23119\n",
    "    if smoking == 1:\n",
    "        return .95372\n",
    "\n",
    "def genetics_p():\n",
    "    return .15953\n",
    "\n",
    "def cancer_p(genetics, smoking):\n",
    "    if genetics == 0 and smoking == 0:\n",
    "        return .23146\n",
    "    if genetics == 1 and smoking == 0:\n",
    "        return .86996\n",
    "    if genetics == 0 and smoking == 1:\n",
    "        return .83934\n",
    "    if genetics == 1 and smoking == 1:\n",
    "        return .99351\n",
    "\n",
    "def attention_p(genetics):\n",
    "    if genetics == 0:\n",
    "        return .28956\n",
    "    if genetics == 1:\n",
    "        return .68706\n",
    "    \n",
    "def evenday_p():\n",
    "    return .5\n",
    "\n",
    "def allergy_p():\n",
    "    return .32841\n",
    "\n",
    "def coughing_p(allergy, cancer):\n",
    "    if allergy == 0 and cancer == 0:\n",
    "        return .1347\n",
    "    if allergy == 1 and cancer == 0:\n",
    "        return .64592\n",
    "    if allergy == 0 and cancer == 1:\n",
    "        return .7664\n",
    "    if allergy == 1 and cancer == 1:\n",
    "        return .99947\n",
    "    \n",
    "def fatigue_p(cancer, coughing):\n",
    "    if cancer == 0 and coughing == 0:\n",
    "        return .35212\n",
    "    if cancer == 1 and coughing == 0:\n",
    "        return .56514\n",
    "    if cancer == 0 and coughing == 1:\n",
    "        return .80016\n",
    "    if cancer == 1 and coughing == 1:\n",
    "        return .89589\n",
    "\n",
    "def accident_p(attention, fatigue):\n",
    "    if attention == 0 and fatigue == 0:\n",
    "        return .2274\n",
    "    if attention == 1 and fatigue == 0:\n",
    "        return .779\n",
    "    if attention == 0 and fatigue == 1:\n",
    "        return .78861\n",
    "    if attention == 1 and fatigue == 1:\n",
    "        return .97169"
   ]
  },
  {
   "cell_type": "code",
   "execution_count": 71,
   "metadata": {
    "pycharm": {
     "name": "#%%\n"
    }
   },
   "outputs": [],
   "source": [
    "def value_prob(prob):\n",
    "    return 1 if random() < prob else 0\n",
    "\n",
    "def node_value(node, previous_values):\n",
    "    prob = 0\n",
    "    if node == \"Smoking\":\n",
    "        prob = smoking_p(previous_values[\"Anxiety\"], previous_values[\"Peer_Pressure\"])\n",
    "    if node == \"Yellow_Fingers\":\n",
    "        prob = yellow_p(previous_values[\"Smoking\"])\n",
    "    if node == \"Anxiety\":\n",
    "        prob = anxiety_p()\n",
    "    if node == \"Peer_Pressure\":\n",
    "        prob = pressure_p()\n",
    "    if node == \"Genetics\":\n",
    "        prob = genetics_p()\n",
    "    if node == \"Attention_Disorder\":\n",
    "        prob = attention_p(previous_values[\"Genetics\"])\n",
    "    if node == \"Born_an_Even_Day\":\n",
    "        prob = evenday_p()\n",
    "    if node == \"Car_Accident\":\n",
    "        prob = accident_p(previous_values[\"Attention_Disorder\"], previous_values[\"Fatigue\"])\n",
    "    if node == \"Fatigue\":\n",
    "        prob = fatigue_p(previous_values[\"Lung_cancer\"], previous_values[\"Coughing\"])\n",
    "    if node == \"Allergy\":\n",
    "        prob = allergy_p()\n",
    "    if node == \"Coughing\":\n",
    "        prob = coughing_p(previous_values[\"Allergy\"], previous_values[\"Lung_cancer\"])\n",
    "    if node == \"Lung_cancer\":\n",
    "        prob = cancer_p(previous_values[\"Genetics\"], previous_values[\"Smoking\"])\n",
    "\n",
    "    return value_prob(prob)\n"
   ]
  },
  {
   "cell_type": "code",
   "execution_count": 72,
   "metadata": {
    "pycharm": {
     "name": "#%%\n"
    }
   },
   "outputs": [],
   "source": [
    "#Number of data\n",
    "N = 10000\n",
    "\n",
    "data = {\n",
    "    \"Anxiety\": [],\n",
    "    \"Peer_Pressure\" : [],\n",
    "    \"Smoking\" : [],\n",
    "    \"Yellow_Fingers\" : [],\n",
    "    \"Genetics\" : [],\n",
    "    \"Lung_cancer\" : [],\n",
    "    \"Attention_Disorder\" : [],\n",
    "    \"Born_an_Even_Day\" : [],\n",
    "    \"Allergy\" : [],\n",
    "    \"Coughing\" : [],\n",
    "    \"Fatigue\" : [],\n",
    "    \"Car_Accident\" : []\n",
    "}\n",
    "order_columns = data.keys()\n",
    "for _ in range(N):\n",
    "    row_values = {}\n",
    "    for node in order_columns:\n",
    "        value = node_value(node, row_values)\n",
    "        row_values[node] = value\n",
    "        data[node].append(value)\n"
   ]
  },
  {
   "cell_type": "code",
   "execution_count": 73,
   "metadata": {
    "pycharm": {
     "name": "#%%\n"
    }
   },
   "outputs": [
    {
     "name": "stdout",
     "output_type": "stream",
     "text": [
      "P(Car_Accident) = 0.6746\n"
     ]
    }
   ],
   "source": [
    "generated_df = pd.DataFrame(data)\n",
    "\n",
    "p = generated_df['Car_Accident'].sum() / generated_df['Car_Accident'].count()\n",
    "print(f\"P(Car_Accident) = {round(p, 5)}\")"
   ]
  },
  {
   "attachments": {},
   "cell_type": "markdown",
   "metadata": {
    "pycharm": {
     "name": "#%% md\n"
    }
   },
   "source": [
    "#### Creating Causal Graph"
   ]
  },
  {
   "cell_type": "code",
   "execution_count": 105,
   "metadata": {
    "pycharm": {
     "name": "#%%\n"
    }
   },
   "outputs": [
    {
     "name": "stdout",
     "output_type": "stream",
     "text": [
      "['Anxiety' 'Peer_Pressure' 'Smoking' 'Yellow_Fingers' 'Genetics'\n",
      " 'Lung_cancer' 'Attention_Disorder' 'Born_an_Even_Day' 'Allergy'\n",
      " 'Coughing' 'Fatigue' 'Car_Accident']\n"
     ]
    },
    {
     "data": {
      "image/png": "[encoded data removed]",
      "text/plain": [
       "<Figure size 640x480 with 1 Axes>"
      ]
     },
     "metadata": {},
     "output_type": "display_data"
    }
   ],
   "source": [
    "from dowhy import CausalModel\n",
    "\n",
    "def gml_to_string(file):\n",
    "    gml_str = ''\n",
    "    with open(file, 'r') as file:\n",
    "        for line in file:\n",
    "            gml_str += line.rstrip()\n",
    "    return gml_str\n",
    "\n",
    "G = nx.DiGraph()\n",
    "\n",
    "G.add_nodes_from(generated_df.columns.values)\n",
    "\n",
    "print (generated_df.columns.values)\n",
    "\n",
    "G.add_edge(\"Smoking\", \"Yellow_Fingers\")\n",
    "G.add_edge(\"Smoking\", \"Lung_cancer\")\n",
    "G.add_edge(\"Anxiety\", \"Smoking\")\n",
    "G.add_edge(\"Peer_Pressure\", \"Smoking\")\n",
    "G.add_edge(\"Genetics\", \"Lung_cancer\")\n",
    "G.add_edge(\"Genetics\", \"Attention_Disorder\")\n",
    "G.add_edge(\"Smoking\", \"Lung_cancer\")\n",
    "G.add_edge(\"Lung_cancer\", \"Coughing\")\n",
    "G.add_edge(\"Lung_cancer\", \"Fatigue\")\n",
    "G.add_edge(\"Coughing\", \"Fatigue\")\n",
    "G.add_edge(\"Allergy\", \"Coughing\")\n",
    "G.add_edge(\"Attention_Disorder\", \"Car_Accident\")\n",
    "G.add_edge(\"Fatigue\", \"Car_Accident\")\n",
    "\n",
    "\n",
    "nx.draw(G, with_labels=True, pos=nx.spring_layout(G))\n",
    "nx.write_gml(G, \"intervention_graph.gml\")\n",
    "\n",
    "\n",
    "gml_graph = gml_to_string('lucas_graph.gml')\n",
    "# With GML string\n",
    "model=CausalModel(\n",
    "        data = generated_df,\n",
    "        treatment='Smoking',\n",
    "        outcome='Car_Accident',\n",
    "        graph=gml_graph\n",
    "        )"
   ]
  },
  {
   "cell_type": "code",
   "execution_count": 106,
   "metadata": {
    "pycharm": {
     "name": "#%%\n"
    }
   },
   "outputs": [
    {
     "name": "stdout",
     "output_type": "stream",
     "text": [
      "*** Causal Estimate ***\n",
      "\n",
      "## Identified estimand\n",
      "Estimand type: EstimandType.NONPARAMETRIC_ATE\n",
      "\n",
      "### Estimand : 1\n",
      "Estimand name: backdoor\n",
      "Estimand expression:\n",
      "    d                      \n",
      "──────────(E[Car_Accident])\n",
      "d[Smoking]                 \n",
      "Estimand assumption 1, Unconfoundedness: If U→{Smoking} and U→Car_Accident then P(Car_Accident|Smoking,,U) = P(Car_Accident|Smoking,)\n",
      "\n",
      "## Realized estimand\n",
      "b: Car_Accident~Smoking+Smoking*Attention_Disorder+Smoking*Allergy+Smoking*Genetics\n",
      "Target units: ate\n",
      "\n",
      "## Estimate\n",
      "Mean value: 0.0\n",
      "\n"
     ]
    },
    {
     "name": "stderr",
     "output_type": "stream",
     "text": [
      "c:\\Users\\aguil\\anaconda3\\envs\\causal_data_science_env\\lib\\site-packages\\statsmodels\\regression\\linear_model.py:1934: RuntimeWarning: divide by zero encountered in double_scalars\n",
      "  return np.sqrt(eigvals[0]/eigvals[-1])\n"
     ]
    }
   ],
   "source": [
    "identified_estimand = model.identify_effect(proceed_when_unidentifiable=True)\n",
    "causal_estimate = model.estimate_effect(identified_estimand, method_name=\"backdoor.linear_regression\")\n",
    "print(causal_estimate)"
   ]
  },
  {
   "cell_type": "code",
   "execution_count": 109,
   "metadata": {
    "pycharm": {
     "name": "#%%\n"
    }
   },
   "outputs": [
    {
     "name": "stdout",
     "output_type": "stream",
     "text": [
      "P(Car_Accident) = 0.67525\n"
     ]
    }
   ],
   "source": []
  }
 ],
 "metadata": {
  "kernelspec": {
   "display_name": "causal_data_science_env",
   "language": "python",
   "name": "python3"
  },
  "language_info": {
   "codemirror_mode": {
    "name": "ipython",
    "version": 3
   },
   "file_extension": ".py",
   "mimetype": "text/x-python",
   "name": "python",
   "nbconvert_exporter": "python",
   "pygments_lexer": "ipython3",
   "version": "3.10.9"
  },
  "orig_nbformat": 4,
  "vscode": {
   "interpreter": {
    "hash": "4948e9f5e09476d20eaa81dd03404e8c89beb3614e4e3157fede2626d7732b1d"
   }
  }
 },
 "nbformat": 4,
 "nbformat_minor": 2
}