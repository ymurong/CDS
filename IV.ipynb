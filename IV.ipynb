{
 "cells": [
  {
   "cell_type": "code",
   "execution_count": 53,
   "id": "7ddafba3-6ea6-4c8f-96d7-b8d041f609f2",
   "metadata": {
    "pycharm": {
     "name": "#%%\n"
    }
   },
   "outputs": [],
   "source": [
    "import numpy as np\n",
    "from numpy.random import randn\n",
    "import pandas as pd\n",
    "import seaborn as sns\n",
    "from sklearn.linear_model import LinearRegression\n",
    "\n",
    "def simulate(s, alpha, beta, gamma, delta, n_samples):\n",
    "    np.random.default_rng(seed=s)\n",
    "    I = randn(n_samples)\n",
    "    W = randn(n_samples)\n",
    "    X = alpha * I + gamma * W + randn(n_samples)\n",
    "    Y = beta * X + delta * W + randn(n_samples)\n",
    "    return pd.DataFrame({ \"I\": I, \"W\": W, \"X\": X,\"Y\":Y})\n",
    "\n",
    "def instrumentalData(s, alpha, beta, gamma, delta, n_samples):\n",
    "    df = simulate(1, alpha, beta, gamma, delta, n_samples)\n",
    "    Y = df[\"Y\"].values.reshape(-1, 1)\n",
    "    X = df[\"X\"].values.reshape(-1, 1)\n",
    "    I = df[\"I\"].values.reshape(-1, 1)\n",
    "    return (I,X,Y)"
   ]
  },
  {
   "cell_type": "markdown",
   "id": "1d8e87c7-1f60-4608-bd1a-e30ef3368fbe",
   "metadata": {
    "pycharm": {
     "name": "#%% md\n"
    }
   },
   "source": [
    "We simulate data for the structural causal model for a set of values for $\\alpha, \\beta, \\gamma, \\delta$:\n",
    "    \\begin{aligned}\n",
    "    I &= \\epsilon_I \\\\\n",
    "    W &= \\epsilon_W\\\\\n",
    "    X &= \\alpha I + \\gamma W + \\epsilon_X \\\\\n",
    "    Y &= \\beta X + \\delta W + \\epsilon_Y \\\\\n",
    "    \\epsilon_I, \\epsilon_W,  \\epsilon_X, \\epsilon_Y  &\\sim N(0,1) \n",
    "    \\end{aligned}"
   ]
  },
  {
   "cell_type": "code",
   "execution_count": 54,
   "id": "6ceef38f-b817-472f-bfdd-19b6259feb6e",
   "metadata": {
    "pycharm": {
     "name": "#%%\n"
    }
   },
   "outputs": [],
   "source": [
    "alpha=5\n",
    "beta=2\n",
    "gamma=3\n",
    "delta=4\n",
    "n_samples = 1000\n",
    "\n",
    "(I,X,Y) = instrumentalData(1, alpha, beta, gamma, delta, n_samples)"
   ]
  },
  {
   "cell_type": "markdown",
   "id": "70cb767a-1c47-4660-9ac2-c18a62b3b1e3",
   "metadata": {
    "pycharm": {
     "name": "#%% md\n"
    }
   },
   "source": [
    "For given values of alpha, beta, gamma and delta, we show that the standard regression always predicts beta in a biased way, while the Instrumental variable method is closer to the true value of beta. Try changing the alpha, beta, gamma and delta parameters and see how the linear regression coefficient varies. What happens if gamma = 0?"
   ]
  },
  {
   "cell_type": "code",
   "execution_count": 55,
   "id": "1c35f3a0-ae6b-4789-bb52-85f39d8284f1",
   "metadata": {
    "pycharm": {
     "name": "#%%\n"
    }
   },
   "outputs": [
    {
     "name": "stdout",
     "output_type": "stream",
     "text": [
      "Estimated beta from linear regression:  2.37347606001822\n",
      "Beta from Instrumental variable method:  2.046492775111044\n",
      "True beta:  2\n"
     ]
    }
   ],
   "source": [
    "# Beta estimated with linear regression\n",
    "linear_regressor = LinearRegression()\n",
    "linear_regressor.fit(X, Y)  # we don't add W as W is unobserved which explains why regressing only Y on X produce bias\n",
    "beta_ols = linear_regressor.coef_[0][0]\n",
    "print (\"Estimated beta from linear regression: \", beta_ols)\n",
    "\n",
    "# Beta estimated with IV method:\n",
    "beta_IV = np.cov(I.T, Y.T)[1,0]/np.cov(I.T, X.T)[1,0]\n",
    "print(\"Beta from Instrumental variable method: \", beta_IV)\n",
    "\n",
    "# True beta in this example:\n",
    "print(\"True beta: \", beta)"
   ]
  },
  {
   "cell_type": "markdown",
   "id": "64c0834f-ea69-422d-8fa9-25cd878b36d0",
   "metadata": {
    "pycharm": {
     "name": "#%% md\n"
    }
   },
   "source": [
    "We will now try a simplified version of Two Stage Least Squares:"
   ]
  },
  {
   "cell_type": "code",
   "execution_count": 56,
   "id": "45ee049d-afc0-45c0-aa78-78d2a5fae35e",
   "metadata": {
    "pycharm": {
     "name": "#%%\n"
    }
   },
   "outputs": [
    {
     "name": "stdout",
     "output_type": "stream",
     "text": [
      "Alpha_hat 5.121894916006067  True alpha 5\n",
      "Beta from Two Stage Least Squares:  2.0464927751110435 True beta 2\n"
     ]
    }
   ],
   "source": [
    "# Simplified 2SLS\n",
    "\n",
    "# Step 1: regress X on I \n",
    "\n",
    "linear_regressor = LinearRegression()\n",
    "linear_regressor.fit(I, X)\n",
    "alpha_hat = linear_regressor.coef_[0][0]\n",
    "print(\"Alpha_hat\", alpha_hat, \" True alpha\", alpha)\n",
    "\n",
    "# Step 2: create X_hat\n",
    "X_hat = alpha_hat * I\n",
    "\n",
    "# Step 3: regress Y on X_hat\n",
    "linear_regressor = LinearRegression()\n",
    "linear_regressor.fit(X_hat, Y)\n",
    "beta_2SLS = linear_regressor.coef_[0][0]\n",
    "print(\"Beta from Two Stage Least Squares: \", beta_2SLS, \"True beta\", beta)"
   ]
  },
  {
   "cell_type": "markdown",
   "id": "4864ef70-7a89-4bad-b6fe-41aaa12a96a3",
   "metadata": {
    "pycharm": {
     "name": "#%% md\n"
    }
   },
   "source": [
    "We can now see that even if the estimated beta with Instrumental Variables and Two Stage Least Squares is unbiased, for small values of alpha, its variance is usually larger than the variance of the OLS estimator. This is true even in settings with a lot of data (e.g. 10k). Try changing alpha to a larger number (e.g. 100) and see how the variance changes."
   ]
  },
  {
   "cell_type": "code",
   "execution_count": 63,
   "id": "9145411c-ddf3-475e-91c1-aee99069cf0c",
   "metadata": {
    "pycharm": {
     "name": "#%%\n"
    }
   },
   "outputs": [],
   "source": [
    "beta_ols_list = []\n",
    "beta_IV_list = []\n",
    "beta_2SLS_list = []\n",
    "\n",
    "alpha=5\n",
    "beta=2\n",
    "gamma=3\n",
    "delta=4\n",
    "n_datasets = 100\n",
    "\n",
    "# We can run comparisons between the estimators on multiple sampled datasets.\n",
    "def run_comparison(nsamples):\n",
    "    for i in range(1,n_datasets):\n",
    "        (I,X,Y) = instrumentalData(i, alpha, beta, gamma, delta, nsamples)\n",
    "        linear_regressor = LinearRegression()\n",
    "        linear_regressor.fit(X, Y)\n",
    "        beta_ols = linear_regressor.coef_[0][0]\n",
    "        beta_ols_list.append(beta_ols)\n",
    "        beta_IV_list.append(np.cov(I.T, Y.T)[1,0]/np.cov(I.T, X.T)[1,0])\n",
    "        linear_regressor = LinearRegression()\n",
    "        linear_regressor.fit(I, X)\n",
    "        alpha_hat = linear_regressor.coef_[0][0]\n",
    "        linear_regressor = LinearRegression()\n",
    "        linear_regressor.fit(alpha_hat * I, Y)\n",
    "        beta_2SLS_list.append(linear_regressor.coef_[0][0])\n",
    "    print(\"OLS :\", np.mean(beta_ols_list), np.var(beta_ols_list))\n",
    "    print(\"IV \",np.mean(beta_IV_list), np.var(beta_IV_list))\n",
    "    print(\"2SLS \", np.mean(beta_2SLS_list), np.var(beta_2SLS_list))\n",
    "    print(\"True beta: \", beta)"
   ]
  },
  {
   "cell_type": "code",
   "execution_count": 64,
   "id": "a7fe1afb-5eea-437c-bf98-c1be65cd9165",
   "metadata": {
    "pycharm": {
     "name": "#%%\n"
    }
   },
   "outputs": [
    {
     "name": "stdout",
     "output_type": "stream",
     "text": [
      "OLS : 2.001888926813252 0.00024379321177126411\n",
      "IV  2.000469533137782 0.00025183142797404075\n",
      "2SLS  2.000469533137782 0.00025183142797404086\n",
      "True beta:  2\n"
     ]
    }
   ],
   "source": [
    "run_comparison(10)"
   ]
  },
  {
   "cell_type": "code",
   "execution_count": 65,
   "id": "87e10f52-706e-41b8-908a-d70d859345ac",
   "metadata": {
    "pycharm": {
     "name": "#%%\n"
    }
   },
   "outputs": [
    {
     "name": "stdout",
     "output_type": "stream",
     "text": [
      "OLS : 2.0013431178602463 0.00012904911240265874\n",
      "IV  2.0000411498918855 0.00013282082992212342\n",
      "2SLS  2.0000411498918855 0.00013282082992212356\n",
      "True beta:  2\n"
     ]
    }
   ],
   "source": [
    "run_comparison(100)"
   ]
  },
  {
   "cell_type": "code",
   "execution_count": 66,
   "id": "fdf3d205-9058-420d-b375-52b2bf3161d9",
   "metadata": {
    "pycharm": {
     "name": "#%%\n"
    }
   },
   "outputs": [
    {
     "name": "stdout",
     "output_type": "stream",
     "text": [
      "OLS : 2.001262042571669 8.672855320210838e-05\n",
      "IV  1.9999963738016933 8.924606208669998e-05\n",
      "2SLS  1.9999963738016933 8.924606208670009e-05\n",
      "True beta:  2\n"
     ]
    }
   ],
   "source": [
    "run_comparison(1000)"
   ]
  },
  {
   "cell_type": "code",
   "execution_count": 67,
   "id": "54c21c65-c731-462e-9f00-f94be26f63ab",
   "metadata": {
    "pycharm": {
     "name": "#%%\n"
    }
   },
   "outputs": [
    {
     "name": "stdout",
     "output_type": "stream",
     "text": [
      "OLS : 2.00123289564692 6.509777295510617e-05\n",
      "IV  1.999983517436772 6.698367337297387e-05\n",
      "2SLS  1.999983517436772 6.698367337297396e-05\n",
      "True beta:  2\n"
     ]
    }
   ],
   "source": [
    "run_comparison(10000)"
   ]
  },
  {
   "cell_type": "code",
   "execution_count": 68,
   "id": "31f8fdd0-20d7-4a0e-8e21-c96520de6a3b",
   "metadata": {
    "pycharm": {
     "name": "#%%\n"
    }
   },
   "outputs": [
    {
     "name": "stdout",
     "output_type": "stream",
     "text": [
      "OLS : 2.0012264415085865 5.2081727286437575e-05\n",
      "IV  1.9999873528693255 5.359039916000093e-05\n",
      "2SLS  1.9999873528693253 5.359039916000102e-05\n",
      "True beta:  2\n"
     ]
    }
   ],
   "source": [
    "run_comparison(100000)"
   ]
  },
  {
   "cell_type": "code",
   "execution_count": 68,
   "outputs": [],
   "source": [],
   "metadata": {
    "collapsed": false,
    "pycharm": {
     "name": "#%%\n"
    }
   }
  },
  {
   "cell_type": "code",
   "execution_count": 68,
   "outputs": [],
   "source": [],
   "metadata": {
    "collapsed": false,
    "pycharm": {
     "name": "#%%\n"
    }
   }
  },
  {
   "cell_type": "code",
   "execution_count": 68,
   "outputs": [],
   "source": [],
   "metadata": {
    "collapsed": false,
    "pycharm": {
     "name": "#%%\n"
    }
   }
  },
  {
   "cell_type": "code",
   "execution_count": null,
   "outputs": [],
   "source": [],
   "metadata": {
    "collapsed": false,
    "pycharm": {
     "name": "#%%\n"
    }
   }
  }
 ],
 "metadata": {
  "kernelspec": {
   "display_name": "Python 3 (ipykernel)",
   "language": "python",
   "name": "python3"
  },
  "language_info": {
   "codemirror_mode": {
    "name": "ipython",
    "version": 3
   },
   "file_extension": ".py",
   "mimetype": "text/x-python",
   "name": "python",
   "nbconvert_exporter": "python",
   "pygments_lexer": "ipython3",
   "version": "3.9.10"
  }
 },
 "nbformat": 4,
 "nbformat_minor": 5
}